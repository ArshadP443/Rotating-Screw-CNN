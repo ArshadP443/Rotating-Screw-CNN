{
  "nbformat": 4,
  "nbformat_minor": 0,
  "metadata": {
    "colab": {
      "provenance": [],
      "gpuType": "T4",
      "include_colab_link": true
    },
    "kernelspec": {
      "name": "python3",
      "display_name": "Python 3"
    },
    "language_info": {
      "name": "python"
    },
    "accelerator": "GPU"
  },
  "cells": [
    {
      "cell_type": "markdown",
      "metadata": {
        "id": "view-in-github",
        "colab_type": "text"
      },
      "source": [
        "<a href=\"https://colab.research.google.com/github/ArshadP443/Rotating-Screw-CNN/blob/main/Copy_of_final_test.ipynb\" target=\"_parent\"><img src=\"https://colab.research.google.com/assets/colab-badge.svg\" alt=\"Open In Colab\"/></a>"
      ]
    },
    {
      "cell_type": "code",
      "source": [
        "from google.colab import drive\n",
        "drive.mount('/content/drive')"
      ],
      "metadata": {
        "colab": {
          "base_uri": "https://localhost:8080/"
        },
        "id": "1DPNX-hXKMiy",
        "outputId": "6a510d45-5cdd-4920-f3be-888ada3ba09b"
      },
      "execution_count": null,
      "outputs": [
        {
          "output_type": "stream",
          "name": "stdout",
          "text": [
            "Drive already mounted at /content/drive; to attempt to forcibly remount, call drive.mount(\"/content/drive\", force_remount=True).\n"
          ]
        }
      ]
    },
    {
      "cell_type": "code",
      "execution_count": null,
      "metadata": {
        "id": "FUdJXuMkJRUR"
      },
      "outputs": [],
      "source": [
        "import os\n",
        "import re\n",
        "from time import time\n",
        "\n",
        "import numpy as np\n",
        "import pandas as pd\n",
        "\n",
        "import torch\n",
        "\n",
        "import torch.nn as nn\n",
        "from torch.nn import functional as F\n",
        "\n",
        "from torch.utils.data import Dataset, DataLoader\n",
        "\n",
        "from sklearn.metrics import accuracy_score, confusion_matrix, classification_report"
      ]
    },
    {
      "cell_type": "code",
      "source": [
        "class FramesDataset(Dataset):\n",
        "  def __init__(self, data_pd):\n",
        "    self.data_pd = data_pd\n",
        "\n",
        "  def __len__(self):\n",
        "    return len(self.data_pd)\n",
        "\n",
        "  def __getitem__(self, index):\n",
        "    return self.data_pd.iloc[index]['Tensor'], self.data_pd.iloc[index]['Label']"
      ],
      "metadata": {
        "id": "lQsvD2C5Jwwz"
      },
      "execution_count": null,
      "outputs": []
    },
    {
      "cell_type": "code",
      "source": [
        "os.chdir('/content/drive/MyDrive/Object Detection/TrainTensors')\n",
        "data_df = torch.load('AugementTrain.pt')"
      ],
      "metadata": {
        "id": "kiSCnpTdJ9Xg"
      },
      "execution_count": null,
      "outputs": []
    },
    {
      "cell_type": "code",
      "source": [
        "for x in range(len(data_df['Label'])):\n",
        "  if data_df['Label'].iloc[x] == 'False':\n",
        "    data_df['Label'].iloc[x] = 0\n",
        "  else:\n",
        "    data_df['Label'].iloc[x] = 1"
      ],
      "metadata": {
        "id": "NI_zam26T612"
      },
      "execution_count": null,
      "outputs": []
    },
    {
      "cell_type": "code",
      "source": [
        "data_df[\"Label\"].value_counts()"
      ],
      "metadata": {
        "colab": {
          "base_uri": "https://localhost:8080/",
          "height": 178
        },
        "id": "-f_k7cADxTFL",
        "outputId": "680a8597-2079-47e3-f6c0-a8c72a54416a"
      },
      "execution_count": null,
      "outputs": [
        {
          "output_type": "execute_result",
          "data": {
            "text/plain": [
              "Label\n",
              "1    17097\n",
              "0    13090\n",
              "Name: count, dtype: int64"
            ],
            "text/html": [
              "<table border=\"1\" class=\"dataframe\">\n",
              "  <thead>\n",
              "    <tr style=\"text-align: right;\">\n",
              "      <th></th>\n",
              "      <th>count</th>\n",
              "    </tr>\n",
              "    <tr>\n",
              "      <th>Label</th>\n",
              "      <th></th>\n",
              "    </tr>\n",
              "  </thead>\n",
              "  <tbody>\n",
              "    <tr>\n",
              "      <th>1</th>\n",
              "      <td>17097</td>\n",
              "    </tr>\n",
              "    <tr>\n",
              "      <th>0</th>\n",
              "      <td>13090</td>\n",
              "    </tr>\n",
              "  </tbody>\n",
              "</table><br><label><b>dtype:</b> int64</label>"
            ]
          },
          "metadata": {},
          "execution_count": 6
        }
      ]
    },
    {
      "cell_type": "code",
      "source": [
        "os.chdir('/content/drive/MyDrive/Object Detection/TestTensors')\n",
        "data_df_test = torch.load('AugementTest.pt')"
      ],
      "metadata": {
        "id": "bxqZ2urSKCbR"
      },
      "execution_count": null,
      "outputs": []
    },
    {
      "cell_type": "code",
      "source": [
        "for x in range(len(data_df_test['Label'])):\n",
        "  if data_df_test['Label'].iloc[x] == '0' or 0:\n",
        "    data_df_test['Label'].iloc[x] = 0\n",
        "  elif data_df_test['Label'].iloc[x] == '1' or 1:\n",
        "    data_df_test['Label'].iloc[x] = 1"
      ],
      "metadata": {
        "id": "xXCceGbRvu00"
      },
      "execution_count": null,
      "outputs": []
    },
    {
      "cell_type": "code",
      "source": [
        "data_df_test[\"Label\"].value_counts()"
      ],
      "metadata": {
        "colab": {
          "base_uri": "https://localhost:8080/",
          "height": 178
        },
        "id": "jblkqYz3xkPy",
        "outputId": "f0d0388e-f6a3-444b-863a-e8043b93a1a5"
      },
      "execution_count": null,
      "outputs": [
        {
          "output_type": "execute_result",
          "data": {
            "text/plain": [
              "Label\n",
              "1    8487\n",
              "0    6058\n",
              "Name: count, dtype: int64"
            ],
            "text/html": [
              "<table border=\"1\" class=\"dataframe\">\n",
              "  <thead>\n",
              "    <tr style=\"text-align: right;\">\n",
              "      <th></th>\n",
              "      <th>count</th>\n",
              "    </tr>\n",
              "    <tr>\n",
              "      <th>Label</th>\n",
              "      <th></th>\n",
              "    </tr>\n",
              "  </thead>\n",
              "  <tbody>\n",
              "    <tr>\n",
              "      <th>1</th>\n",
              "      <td>8487</td>\n",
              "    </tr>\n",
              "    <tr>\n",
              "      <th>0</th>\n",
              "      <td>6058</td>\n",
              "    </tr>\n",
              "  </tbody>\n",
              "</table><br><label><b>dtype:</b> int64</label>"
            ]
          },
          "metadata": {},
          "execution_count": 9
        }
      ]
    },
    {
      "cell_type": "code",
      "source": [
        "train_dataset = FramesDataset(data_df)\n",
        "train_dataloader = DataLoader(train_dataset, batch_size=64, shuffle=True, num_workers=2, pin_memory=True)"
      ],
      "metadata": {
        "id": "48SutptLLTlG"
      },
      "execution_count": null,
      "outputs": []
    },
    {
      "cell_type": "code",
      "source": [
        "test_dataset = FramesDataset(data_df_test)\n",
        "test_dataloader = DataLoader(test_dataset, batch_size=64, shuffle=True, num_workers=2, pin_memory=True)"
      ],
      "metadata": {
        "id": "4ciV0J4sLZgQ"
      },
      "execution_count": null,
      "outputs": []
    },
    {
      "cell_type": "code",
      "source": [
        "class CNN(nn.Module):\n",
        "    def __init__(self):\n",
        "        super().__init__()\n",
        "        self.conv1 = nn.Conv2d(1, 4, 5, 2)\n",
        "        self.conv2 = nn.Conv2d(4, 16, 5, 2)\n",
        "        self.fc1 = nn.Linear(576, 550)\n",
        "        self.fc2 = nn.Linear(550, 540)\n",
        "        self.fc3 = nn.Linear(540, 470)\n",
        "        self.fc4 = nn.Linear(470, 300)\n",
        "        self.fc5 = nn.Linear(300, 220)\n",
        "        self.fc6 = nn.Linear(220, 130)\n",
        "        self.fc7 = nn.Linear(130, 70)\n",
        "        self.fc8 = nn.Linear(70, 40)\n",
        "        self.fc9 = nn.Linear(40, 1)\n",
        "\n",
        "    def forward(self, x):\n",
        "        x = F.relu(self.conv1(x))\n",
        "        x = F.max_pool2d(x, 3, 3)\n",
        "        x = F.relu(self.conv2(x))\n",
        "        x = F.max_pool2d(x, 3, 3)\n",
        "        x = x.flatten(start_dim=1)\n",
        "        x = F.relu(self.fc1(x))\n",
        "        x = self.fc2(x)\n",
        "        x = self.fc3(x)\n",
        "        x = self.fc4(x)\n",
        "        x = self.fc5(x)\n",
        "        x = self.fc6(x)\n",
        "        x = self.fc7(x)\n",
        "        x = self.fc8(x)\n",
        "        x = self.fc9(x)\n",
        "        return x"
      ],
      "metadata": {
        "id": "Od5YMazTK-2C"
      },
      "execution_count": null,
      "outputs": []
    },
    {
      "cell_type": "code",
      "source": [
        "device = torch.device('cuda' if torch.cuda.is_available() else 'cpu')\n",
        "print(device)\n",
        "model = CNN().to(device)"
      ],
      "metadata": {
        "colab": {
          "base_uri": "https://localhost:8080/"
        },
        "id": "ME5JIeW9LL8s",
        "outputId": "5ba0c2d8-2ec2-4c92-d9b4-383170a3736d"
      },
      "execution_count": null,
      "outputs": [
        {
          "output_type": "stream",
          "name": "stdout",
          "text": [
            "cuda\n"
          ]
        }
      ]
    },
    {
      "cell_type": "code",
      "source": [
        "# Hyperparameters\n",
        "epochs = 3\n",
        "learning_rate = .001\n",
        "criterion = nn.BCEWithLogitsLoss()\n",
        "optimizer = torch.optim.Adam(model.parameters(), lr=learning_rate)\n",
        "\n",
        "param_count = sum(p.numel() for p in model.parameters() if p.requires_grad)\n",
        "print(f'The model has {param_count:,} trainable parameters')"
      ],
      "metadata": {
        "colab": {
          "base_uri": "https://localhost:8080/"
        },
        "id": "DXgZqT_eLned",
        "outputId": "d18c7303-d084-4eb7-97c1-2b063cf2f457"
      },
      "execution_count": null,
      "outputs": [
        {
          "output_type": "stream",
          "name": "stdout",
          "text": [
            "The model has 1,119,181 trainable parameters\n"
          ]
        }
      ]
    },
    {
      "cell_type": "code",
      "source": [
        "model = torch.compile(model, mode=\"reduce-overhead\")\n",
        "torch.set_float32_matmul_precision(\"highest\")\n",
        "torch.backends.cudnn.benchmark = True"
      ],
      "metadata": {
        "id": "VWu6thmSMSDN"
      },
      "execution_count": null,
      "outputs": []
    },
    {
      "cell_type": "code",
      "source": [
        "for batch_idx, (data, targets) in enumerate(train_dataloader):\n",
        "    outputs = model(data.to(device)).squeeze(1)\n",
        "    print(outputs.size())\n",
        "    loss = criterion(outputs, targets.to(device).float())\n",
        "    print(loss.item())\n",
        "    break"
      ],
      "metadata": {
        "colab": {
          "base_uri": "https://localhost:8080/"
        },
        "id": "xiL5vEM0MTz1",
        "outputId": "8a47d2cc-166d-4001-e29e-eef6ccde5957"
      },
      "execution_count": null,
      "outputs": [
        {
          "output_type": "stream",
          "name": "stdout",
          "text": [
            "torch.Size([64])\n",
            "0.6863588690757751\n"
          ]
        }
      ]
    },
    {
      "cell_type": "code",
      "source": [
        "times = []\n",
        "losses = []\n",
        "\n",
        "for epoch in range(epochs):\n",
        "    for batch_idx, (data, targets) in enumerate(train_dataloader):\n",
        "\n",
        "        start = time()\n",
        "        outputs = model(data.to(device)).squeeze(1)\n",
        "        loss = criterion(outputs, targets.to(device).float())\n",
        "\n",
        "        optimizer.zero_grad()\n",
        "\n",
        "        loss.backward()\n",
        "        optimizer.step()\n",
        "\n",
        "\n",
        "        losses.append(loss.item())\n",
        "        times.append(time() - start)\n",
        "\n",
        "        msg =  f'Epoch: {epoch+1:02}/{epochs:02} | '\n",
        "        msg += f'Batch: {batch_idx+1:05}/{len(train_dataloader):05} | '\n",
        "        msg += f'Loss: {losses[-1]:0.4} | '\n",
        "        msg += f'Avg Loss: {sum(losses)/len(losses):0.4} | '\n",
        "        msg += f'First Prediction: {outputs[0]} | '\n",
        "        msg += f'First Label: {targets[0]} | '\n",
        "        msg += f'Time: {times[-1]:0.4} | '\n",
        "        avg_time = sum(times)/len(times)\n",
        "        msg += f'Avg Time: {avg_time:0.4} | '\n",
        "        msg += f'Time Left: {avg_time * (len(train_dataloader) - (batch_idx + 1)):0.4}'\n",
        "        print(msg, flush=True)\n",
        "        if (batch_idx%10 == 0):\n",
        "            torch.cuda.empty_cache()"
      ],
      "metadata": {
        "id": "EE9x60fAhBy6"
      },
      "execution_count": null,
      "outputs": []
    },
    {
      "cell_type": "code",
      "source": [
        "predictions = []\n",
        "labels = []\n",
        "\n",
        "with torch.no_grad():\n",
        "\n",
        "    model.eval()\n",
        "\n",
        "    for batch_idx, (data, targets) in enumerate(test_dataloader):\n",
        "\n",
        "        outputs = model(data.to(device))\n",
        "        # print(outputs)\n",
        "        predicted, _ = torch.max(outputs, 1)\n",
        "        # print(predicted)\n",
        "        # print(predicted[0])\n",
        "        # break\n",
        "        for i in range(len(predicted)):\n",
        "          if predicted[i].item() < 0:\n",
        "            predictions.append(0)\n",
        "          else:\n",
        "            predictions.append(1)\n",
        "        # predictions.extend(predicted.cpu().numpy())\n",
        "        labels.extend(targets.cpu().numpy())"
      ],
      "metadata": {
        "id": "S2cpXGKJvYw0"
      },
      "execution_count": null,
      "outputs": []
    },
    {
      "cell_type": "code",
      "source": [
        "print(accuracy_score(labels, predictions))\n",
        "print(confusion_matrix(labels, predictions))\n",
        "print(classification_report(labels, predictions))"
      ],
      "metadata": {
        "colab": {
          "base_uri": "https://localhost:8080/"
        },
        "id": "YNIhX6i8ppQX",
        "outputId": "cfcd6621-a778-44ef-a42b-82892e3dac4f"
      },
      "execution_count": null,
      "outputs": [
        {
          "output_type": "stream",
          "name": "stdout",
          "text": [
            "0.9947060845651426\n",
            "[[5982   76]\n",
            " [   1 8486]]\n",
            "              precision    recall  f1-score   support\n",
            "\n",
            "           0       1.00      0.99      0.99      6058\n",
            "           1       0.99      1.00      1.00      8487\n",
            "\n",
            "    accuracy                           0.99     14545\n",
            "   macro avg       1.00      0.99      0.99     14545\n",
            "weighted avg       0.99      0.99      0.99     14545\n",
            "\n"
          ]
        }
      ]
    },
    {
      "cell_type": "code",
      "source": [
        "torch.save(model.state_dict(), '/content/drive/MyDrive/Object Detection/bestmodels/AugmentCNN.pt')"
      ],
      "metadata": {
        "id": "0vnKhxpX06lx"
      },
      "execution_count": null,
      "outputs": []
    }
  ]
}